{
  "nbformat": 4,
  "nbformat_minor": 0,
  "metadata": {
    "colab": {
      "provenance": [],
      "gpuType": "T4",
      "authorship_tag": "ABX9TyPoEaw+AFojML1tkz60rSub",
      "include_colab_link": true
    },
    "kernelspec": {
      "name": "python3",
      "display_name": "Python 3"
    },
    "language_info": {
      "name": "python"
    },
    "accelerator": "GPU"
  },
  "cells": [
    {
      "cell_type": "markdown",
      "metadata": {
        "id": "view-in-github",
        "colab_type": "text"
      },
      "source": [
        "<a href=\"https://colab.research.google.com/github/rlmowrey/Pytorch-Tutorial-Youtube/blob/main/Tensors.ipynb\" target=\"_parent\"><img src=\"https://colab.research.google.com/assets/colab-badge.svg\" alt=\"Open In Colab\"/></a>"
      ]
    },
    {
      "cell_type": "markdown",
      "source": [
        "**TENSORS**\n",
        "\n",
        "\n",
        "*   A torch.Tensor is a multi-dimensional matrix containing elements of a single data type.\n",
        "*   Similar to Numpy Arrays, but full of fun things that make them work better on GPUs (vs regular CPUs).\n",
        "*   Default data type is float32.\n",
        "*   More suitable for deep learning than a Numpy Array."
      ],
      "metadata": {
        "id": "neLU9xrGxsZ-"
      }
    },
    {
      "cell_type": "code",
      "source": [
        "import torch\n",
        "import numpy as np"
      ],
      "metadata": {
        "id": "mz_sWF89yVH2"
      },
      "execution_count": 3,
      "outputs": []
    },
    {
      "cell_type": "markdown",
      "source": [
        "**LISTS**"
      ],
      "metadata": {
        "id": "9pB5un3nyj9K"
      }
    },
    {
      "cell_type": "code",
      "source": [
        "my_list = [[1,2,3,4,5], [6,7,8,9,10]]\n",
        "my_list[1][3]"
      ],
      "metadata": {
        "colab": {
          "base_uri": "https://localhost:8080/"
        },
        "id": "_ZVCmbwXya1V",
        "outputId": "f8e275c4-8ee0-4f56-c6d0-a2b466dc6c28"
      },
      "execution_count": 5,
      "outputs": [
        {
          "output_type": "execute_result",
          "data": {
            "text/plain": [
              "9"
            ]
          },
          "metadata": {},
          "execution_count": 5
        }
      ]
    },
    {
      "cell_type": "markdown",
      "source": [
        "**NUMPY ARRAYS**"
      ],
      "metadata": {
        "id": "a6-brWYCyv3s"
      }
    },
    {
      "cell_type": "code",
      "source": [
        "np1 = np.random.rand(3,4)\n",
        "np1"
      ],
      "metadata": {
        "colab": {
          "base_uri": "https://localhost:8080/"
        },
        "id": "2cQ9V9l3yt1O",
        "outputId": "05984d78-f1e8-4af2-f80c-4e96d9de4fe3"
      },
      "execution_count": 6,
      "outputs": [
        {
          "output_type": "execute_result",
          "data": {
            "text/plain": [
              "array([[0.13953392, 0.80822603, 0.08035879, 0.6438931 ],\n",
              "       [0.23752202, 0.76180348, 0.48164386, 0.20176579],\n",
              "       [0.66013145, 0.26538329, 0.34945976, 0.74231012]])"
            ]
          },
          "metadata": {},
          "execution_count": 6
        }
      ]
    },
    {
      "cell_type": "code",
      "source": [
        "np1.dtype"
      ],
      "metadata": {
        "colab": {
          "base_uri": "https://localhost:8080/"
        },
        "id": "a9mpyTUozU_2",
        "outputId": "4360e5b8-b755-4f5a-a189-5ee3aff39b5b"
      },
      "execution_count": 7,
      "outputs": [
        {
          "output_type": "execute_result",
          "data": {
            "text/plain": [
              "dtype('float64')"
            ]
          },
          "metadata": {},
          "execution_count": 7
        }
      ]
    },
    {
      "cell_type": "markdown",
      "source": [
        "**TENSORS**"
      ],
      "metadata": {
        "id": "Rz5Kp5k-zitF"
      }
    },
    {
      "cell_type": "code",
      "source": [
        "tensor_2d = torch.randn(3,4)\n",
        "tensor_2d"
      ],
      "metadata": {
        "colab": {
          "base_uri": "https://localhost:8080/"
        },
        "id": "zZarRw15zbiM",
        "outputId": "8df62883-465d-4ff4-f369-3d3c4e01d696"
      },
      "execution_count": 8,
      "outputs": [
        {
          "output_type": "execute_result",
          "data": {
            "text/plain": [
              "tensor([[-0.1226, -1.0313, -0.6595, -1.2915],\n",
              "        [-0.9143,  0.3801,  0.1708, -0.0617],\n",
              "        [ 0.7284, -0.0185, -0.1764,  0.1705]])"
            ]
          },
          "metadata": {},
          "execution_count": 8
        }
      ]
    },
    {
      "cell_type": "code",
      "source": [
        "tensor_3d = torch.zeros(2,3,4)\n",
        "tensor_3d"
      ],
      "metadata": {
        "colab": {
          "base_uri": "https://localhost:8080/"
        },
        "id": "DuUdgzGizvcu",
        "outputId": "40ea0f32-5d8d-4002-d6ab-cf7adac0062c"
      },
      "execution_count": 10,
      "outputs": [
        {
          "output_type": "execute_result",
          "data": {
            "text/plain": [
              "tensor([[[0., 0., 0., 0.],\n",
              "         [0., 0., 0., 0.],\n",
              "         [0., 0., 0., 0.]],\n",
              "\n",
              "        [[0., 0., 0., 0.],\n",
              "         [0., 0., 0., 0.],\n",
              "         [0., 0., 0., 0.]]])"
            ]
          },
          "metadata": {},
          "execution_count": 10
        }
      ]
    },
    {
      "cell_type": "code",
      "source": [
        "## Create tensor out of numpy array\n",
        "my_tensor = torch.tensor(np1)\n",
        "my_tensor"
      ],
      "metadata": {
        "colab": {
          "base_uri": "https://localhost:8080/"
        },
        "id": "U1K-awQ4z3IG",
        "outputId": "c308e02c-a97c-4580-d4ef-1993587c62a0"
      },
      "execution_count": 11,
      "outputs": [
        {
          "output_type": "execute_result",
          "data": {
            "text/plain": [
              "tensor([[0.1395, 0.8082, 0.0804, 0.6439],\n",
              "        [0.2375, 0.7618, 0.4816, 0.2018],\n",
              "        [0.6601, 0.2654, 0.3495, 0.7423]], dtype=torch.float64)"
            ]
          },
          "metadata": {},
          "execution_count": 11
        }
      ]
    },
    {
      "cell_type": "code",
      "source": [],
      "metadata": {
        "id": "RjD0cYvL0Brt"
      },
      "execution_count": null,
      "outputs": []
    }
  ]
}